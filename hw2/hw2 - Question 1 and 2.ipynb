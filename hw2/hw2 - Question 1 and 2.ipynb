{
 "cells": [
  {
   "cell_type": "markdown",
   "metadata": {},
   "source": [
    "# CMSC828O - Jason Fan - HW2, Questions 1 and 2"
   ]
  },
  {
   "cell_type": "code",
   "execution_count": 1,
   "metadata": {},
   "outputs": [],
   "source": [
    "import networkx as nx\n",
    "import pandas as pd\n",
    "import numpy as np\n",
    "import seaborn as sns\n",
    "import scipy\n",
    "\n",
    "import matplotlib\n",
    "%matplotlib inline\n",
    "\n",
    "import matplotlib.pyplot as plt"
   ]
  },
  {
   "cell_type": "markdown",
   "metadata": {},
   "source": [
    "# Preamble\n",
    "\n",
    "The GIs used in this notebook are parsed with R code taken *verbatim* from https://www.hcbravo.org/networks-across-scales/homeworks/network_stats/"
   ]
  },
  {
   "cell_type": "code",
   "execution_count": 2,
   "metadata": {},
   "outputs": [
    {
     "data": {
      "text/html": [
       "<div>\n",
       "<style scoped>\n",
       "    .dataframe tbody tr th:only-of-type {\n",
       "        vertical-align: middle;\n",
       "    }\n",
       "\n",
       "    .dataframe tbody tr th {\n",
       "        vertical-align: top;\n",
       "    }\n",
       "\n",
       "    .dataframe thead th {\n",
       "        text-align: right;\n",
       "    }\n",
       "</style>\n",
       "<table border=\"1\" class=\"dataframe\">\n",
       "  <thead>\n",
       "    <tr style=\"text-align: right;\">\n",
       "      <th></th>\n",
       "      <th>dma3986</th>\n",
       "      <th>dma969</th>\n",
       "      <th>dma2913</th>\n",
       "      <th>dma2871</th>\n",
       "      <th>dma86</th>\n",
       "      <th>dma2378</th>\n",
       "      <th>dma955</th>\n",
       "      <th>dma2338</th>\n",
       "      <th>dma272</th>\n",
       "      <th>dma2549</th>\n",
       "      <th>...</th>\n",
       "      <th>dma4417</th>\n",
       "      <th>dma3050</th>\n",
       "      <th>dma1905</th>\n",
       "      <th>dma1565</th>\n",
       "      <th>dma5343</th>\n",
       "      <th>dma3023</th>\n",
       "      <th>dma4495</th>\n",
       "      <th>dma796</th>\n",
       "      <th>dma2289</th>\n",
       "      <th>dma1373</th>\n",
       "    </tr>\n",
       "  </thead>\n",
       "  <tbody>\n",
       "    <tr>\n",
       "      <td>dma3986</td>\n",
       "      <td>0</td>\n",
       "      <td>0</td>\n",
       "      <td>0</td>\n",
       "      <td>0</td>\n",
       "      <td>0</td>\n",
       "      <td>0</td>\n",
       "      <td>0</td>\n",
       "      <td>0</td>\n",
       "      <td>0</td>\n",
       "      <td>0</td>\n",
       "      <td>...</td>\n",
       "      <td>0</td>\n",
       "      <td>0</td>\n",
       "      <td>0</td>\n",
       "      <td>0</td>\n",
       "      <td>0</td>\n",
       "      <td>0</td>\n",
       "      <td>0</td>\n",
       "      <td>0</td>\n",
       "      <td>0</td>\n",
       "      <td>0</td>\n",
       "    </tr>\n",
       "    <tr>\n",
       "      <td>dma969</td>\n",
       "      <td>0</td>\n",
       "      <td>0</td>\n",
       "      <td>0</td>\n",
       "      <td>0</td>\n",
       "      <td>0</td>\n",
       "      <td>0</td>\n",
       "      <td>0</td>\n",
       "      <td>0</td>\n",
       "      <td>0</td>\n",
       "      <td>0</td>\n",
       "      <td>...</td>\n",
       "      <td>0</td>\n",
       "      <td>0</td>\n",
       "      <td>0</td>\n",
       "      <td>0</td>\n",
       "      <td>0</td>\n",
       "      <td>0</td>\n",
       "      <td>0</td>\n",
       "      <td>0</td>\n",
       "      <td>0</td>\n",
       "      <td>0</td>\n",
       "    </tr>\n",
       "    <tr>\n",
       "      <td>dma2913</td>\n",
       "      <td>0</td>\n",
       "      <td>0</td>\n",
       "      <td>0</td>\n",
       "      <td>0</td>\n",
       "      <td>0</td>\n",
       "      <td>0</td>\n",
       "      <td>0</td>\n",
       "      <td>0</td>\n",
       "      <td>0</td>\n",
       "      <td>0</td>\n",
       "      <td>...</td>\n",
       "      <td>0</td>\n",
       "      <td>0</td>\n",
       "      <td>0</td>\n",
       "      <td>0</td>\n",
       "      <td>0</td>\n",
       "      <td>0</td>\n",
       "      <td>0</td>\n",
       "      <td>0</td>\n",
       "      <td>0</td>\n",
       "      <td>0</td>\n",
       "    </tr>\n",
       "    <tr>\n",
       "      <td>dma2871</td>\n",
       "      <td>0</td>\n",
       "      <td>0</td>\n",
       "      <td>0</td>\n",
       "      <td>0</td>\n",
       "      <td>0</td>\n",
       "      <td>0</td>\n",
       "      <td>0</td>\n",
       "      <td>0</td>\n",
       "      <td>0</td>\n",
       "      <td>0</td>\n",
       "      <td>...</td>\n",
       "      <td>0</td>\n",
       "      <td>0</td>\n",
       "      <td>0</td>\n",
       "      <td>0</td>\n",
       "      <td>0</td>\n",
       "      <td>0</td>\n",
       "      <td>0</td>\n",
       "      <td>0</td>\n",
       "      <td>0</td>\n",
       "      <td>0</td>\n",
       "    </tr>\n",
       "    <tr>\n",
       "      <td>dma86</td>\n",
       "      <td>0</td>\n",
       "      <td>0</td>\n",
       "      <td>0</td>\n",
       "      <td>0</td>\n",
       "      <td>0</td>\n",
       "      <td>0</td>\n",
       "      <td>0</td>\n",
       "      <td>0</td>\n",
       "      <td>0</td>\n",
       "      <td>0</td>\n",
       "      <td>...</td>\n",
       "      <td>0</td>\n",
       "      <td>0</td>\n",
       "      <td>0</td>\n",
       "      <td>0</td>\n",
       "      <td>0</td>\n",
       "      <td>0</td>\n",
       "      <td>0</td>\n",
       "      <td>0</td>\n",
       "      <td>0</td>\n",
       "      <td>0</td>\n",
       "    </tr>\n",
       "  </tbody>\n",
       "</table>\n",
       "<p>5 rows × 2803 columns</p>\n",
       "</div>"
      ],
      "text/plain": [
       "         dma3986  dma969  dma2913  dma2871  dma86  dma2378  dma955  dma2338  \\\n",
       "dma3986        0       0        0        0      0        0       0        0   \n",
       "dma969         0       0        0        0      0        0       0        0   \n",
       "dma2913        0       0        0        0      0        0       0        0   \n",
       "dma2871        0       0        0        0      0        0       0        0   \n",
       "dma86          0       0        0        0      0        0       0        0   \n",
       "\n",
       "         dma272  dma2549  ...  dma4417  dma3050  dma1905  dma1565  dma5343  \\\n",
       "dma3986       0        0  ...        0        0        0        0        0   \n",
       "dma969        0        0  ...        0        0        0        0        0   \n",
       "dma2913       0        0  ...        0        0        0        0        0   \n",
       "dma2871       0        0  ...        0        0        0        0        0   \n",
       "dma86         0        0  ...        0        0        0        0        0   \n",
       "\n",
       "         dma3023  dma4495  dma796  dma2289  dma1373  \n",
       "dma3986        0        0       0        0        0  \n",
       "dma969         0        0       0        0        0  \n",
       "dma2913        0        0       0        0        0  \n",
       "dma2871        0        0       0        0        0  \n",
       "dma86          0        0       0        0        0  \n",
       "\n",
       "[5 rows x 2803 columns]"
      ]
     },
     "execution_count": 2,
     "metadata": {},
     "output_type": "execute_result"
    }
   ],
   "source": [
    "gis_path = 'data/output/costanzo_gis_adj.tsv'\n",
    "gis_df = pd.read_csv(gis_path, sep='\\t')\n",
    "gis_df.index = gis_df.columns\n",
    "gis_df.head()"
   ]
  },
  {
   "cell_type": "code",
   "execution_count": 3,
   "metadata": {},
   "outputs": [
    {
     "data": {
      "text/plain": [
       "(2803, 2803)"
      ]
     },
     "execution_count": 3,
     "metadata": {},
     "output_type": "execute_result"
    }
   ],
   "source": [
    "gis_df.shape"
   ]
  },
  {
   "cell_type": "code",
   "execution_count": 4,
   "metadata": {},
   "outputs": [],
   "source": [
    "A = gis_df.values"
   ]
  },
  {
   "cell_type": "markdown",
   "metadata": {},
   "source": [
    "# Question 1: \n",
    "**Q:** Is this degree distribution consistent with a network generated by the Erdös-Renyi network model? Why?\n",
    "\n",
    "**A:** No, the GI network is not generated by the Erdos Renyi model (ER). As shown by the plot below, which plots a binomial degree distribution (with <k> derived from the mean degree of the GI network), the GI network has many more nodes of high degree. The ER model does not have hubs."
   ]
  },
  {
   "cell_type": "code",
   "execution_count": 5,
   "metadata": {},
   "outputs": [
    {
     "data": {
      "image/png": "[encoded data removed]",
      "text/plain": [
       "<Figure size 432x288 with 1 Axes>"
      ]
     },
     "metadata": {
      "needs_background": "light"
     },
     "output_type": "display_data"
    }
   ],
   "source": [
    "def empirical_deg_dist(A):\n",
    "    degrees = np.sum(A, axis=0)\n",
    "    k, pk = np.unique(degrees, return_counts=True)\n",
    "    pk = pk / np.sum(pk)\n",
    "    return k, pk\n",
    "\n",
    "def fit_and_plot_binom(A):\n",
    "    k, pk = empirical_deg_dist(A)\n",
    "    \n",
    "    not_0 = k>0\n",
    "    k = k[not_0]\n",
    "    pk = pk[not_0]\n",
    "    \n",
    "    log_pk = np.log(pk)\n",
    "    log_k = np.log(k)\n",
    "\n",
    "    avg_deg = np.sum(pk.dot(k))\n",
    "    n_nodes = len(A)\n",
    "    p_edge = avg_deg / n_nodes\n",
    "\n",
    "    rv = scipy.stats.binom(n_nodes-1, p_edge)\n",
    "    binom_pk = [rv.pmf(x) for x in k]\n",
    "    log_binom_pk = np.log(binom_pk)\n",
    "    plt.scatter(log_k, log_pk,  label='Empirical',  alpha=0.4)\n",
    "    plt.plot(log_k, log_binom_pk, label='Binomial')\n",
    "    plt.ylim((min(log_pk)-1, max(log_pk) + 1),)\n",
    "    plt.legend()\n",
    "    plt.xlabel('log k')\n",
    "    plt.ylabel('log pk')\n",
    "    plt.title('Empirical degree distribution vs ER degree distribution')\n",
    "fit_and_plot_binom(A)"
   ]
  },
  {
   "cell_type": "markdown",
   "metadata": {},
   "source": [
    "# Question 2\n",
    "\n",
    "Here we first show that we can estimate $\\gamma$"
   ]
  },
  {
   "cell_type": "code",
   "execution_count": 6,
   "metadata": {},
   "outputs": [],
   "source": [
    "def gamma_at_kmin(kmin, degs):\n",
    "    '''\n",
    "    estimates gamma of power law given degrees\n",
    "    NOTE: sums should be taken from kmin to kmax\n",
    "    '''\n",
    "    d = degs[degs >= kmin] # Take log probs w.r.t only samples generated by powerlaw\n",
    "    N = len(d)\n",
    "    return 1 + N / np.sum( np.log(d / (kmin - 0.5)) )\n",
    "\n",
    "def fit_power_law_pmf(kmin, degs):\n",
    "    gamma = gamma_at_kmin(kmin, degs)\n",
    "    def pmf(k):\n",
    "        return k ** (-gamma) / scipy.special.zeta(gamma, kmin)\n",
    "    return pmf"
   ]
  },
  {
   "cell_type": "markdown",
   "metadata": {},
   "source": [
    "By inspection, we \"guess\" $K_{min}$ to be 12, and sanity check that our procedure works."
   ]
  },
  {
   "cell_type": "code",
   "execution_count": 7,
   "metadata": {},
   "outputs": [
    {
     "data": {
      "text/plain": [
       "<matplotlib.collections.PathCollection at 0x7f608f428358>"
      ]
     },
     "execution_count": 7,
     "metadata": {},
     "output_type": "execute_result"
    },
    {
     "data": {
      "image/png": "[encoded data removed]",
      "text/plain": [
       "<Figure size 432x288 with 1 Axes>"
      ]
     },
     "metadata": {
      "needs_background": "light"
     },
     "output_type": "display_data"
    }
   ],
   "source": [
    "# Sanity check to see that the procdure works and that we can plot a predicted linear \n",
    "# (in log-log) relationship with fitted gamma for some kmin\n",
    "kmin=12\n",
    "ks, pks = empirical_deg_dist(A)\n",
    "flags = ks > 0\n",
    "ks, pks = ks[flags], pks[flags]\n",
    "\n",
    "degs = np.sum(A, axis=0)\n",
    "pmf = fit_power_law_pmf(kmin, degs)\n",
    "power_pks = [pmf(k) for k in ks if k>=kmin]\n",
    "plt.plot(np.log(ks[ks >=kmin]), np.log(power_pks))\n",
    "plt.scatter(np.log(ks), np.log(pks), alpha=0.5)"
   ]
  },
  {
   "cell_type": "code",
   "execution_count": 8,
   "metadata": {},
   "outputs": [],
   "source": [
    "'''\n",
    "Some helper functions to find the 'right' $\\gamma$\n",
    "'''\n",
    "\n",
    "def fit_power_law_cdf(kmin, degs):\n",
    "    gamma = gamma_at_kmin(kmin, degs)\n",
    "    def cdf(k):\n",
    "        return 1 - (scipy.special.zeta(gamma, k) / scipy.special.zeta(gamma, kmin))\n",
    "    return cdf\n",
    "\n",
    "def _empirical_cdf(A):\n",
    "    ks, pks = empirical_deg_dist(A)\n",
    "    max_deg = max(ks)\n",
    "    filled_cumsum = [np.sum(pks[ks <= k]) for k in range(max_deg + 1)]\n",
    "    filled_ks = np.arange(max_deg + 1)\n",
    "    return filled_ks, filled_cumsum\n",
    "\n",
    "def empirical_cdf(A):\n",
    "    ks, cumsum = _empirical_cdf(A)\n",
    "    def cdf(k):\n",
    "        return cumsum[k]\n",
    "    return cdf\n",
    "\n",
    "def D(A, kmin):\n",
    "    kmax = np.max(np.sum(A, axis=0))\n",
    "    pl_cdf =  fit_power_law_cdf(kmin, np.sum(A, axis=0))\n",
    "    e_cdf = empirical_cdf(A)\n",
    "    errs = [np.abs(e_cdf(k) - pl_cdf(k)) for k in range(kmin, kmax + 1)]\n",
    "    return np.max(errs)    "
   ]
  },
  {
   "cell_type": "markdown",
   "metadata": {},
   "source": [
    "Let's plot the CDFs and divergences at different $k_{min}$"
   ]
  },
  {
   "cell_type": "code",
   "execution_count": 9,
   "metadata": {},
   "outputs": [
    {
     "data": {
      "image/png": "[encoded data removed]",
      "text/plain": [
       "<Figure size 432x288 with 1 Axes>"
      ]
     },
     "metadata": {
      "needs_background": "light"
     },
     "output_type": "display_data"
    }
   ],
   "source": [
    "# Visualizing the PDFs\n",
    "\n",
    "degs = np.sum(A, axis=0)\n",
    "max_deg = np.max(degs)\n",
    "ks = np.arange(max_deg + 1)\n",
    "e_cdf = empirical_cdf(A)\n",
    "pl_cdf = fit_power_law_cdf(kmin, degs)\n",
    "\n",
    "plt.plot(ks, [e_cdf(k) for k in ks], label='Empirical CDF')\n",
    "plt.plot(ks[ks>=kmin], [pl_cdf(k) for k in ks if k>=kmin], label='Power Law CDF')\n",
    "plt.title('CDFs of fitted power law and empirical degree distribution')\n",
    "plt.xlabel('k')\n",
    "plt.ylabel('P(K < k)')\n",
    "_ = plt.legend()"
   ]
  },
  {
   "cell_type": "markdown",
   "metadata": {},
   "source": [
    "Let's calculate and plot the divergences for different $k_{min}$, (like *image* 4.24(b))"
   ]
  },
  {
   "cell_type": "code",
   "execution_count": 10,
   "metadata": {},
   "outputs": [
    {
     "name": "stderr",
     "output_type": "stream",
     "text": [
      "/home/jason/miniconda3/envs/CMSC828O/lib/python3.6/site-packages/ipykernel_launcher.py:8: RuntimeWarning: invalid value encountered in double_scalars\n",
      "  \n"
     ]
    }
   ],
   "source": [
    "Ds = [D(A, k) for k in range(1, max_deg+1)]"
   ]
  },
  {
   "cell_type": "code",
   "execution_count": 18,
   "metadata": {},
   "outputs": [
    {
     "data": {
      "image/png": "[encoded data removed]",
      "text/plain": [
       "<Figure size 432x288 with 1 Axes>"
      ]
     },
     "metadata": {
      "needs_background": "light"
     },
     "output_type": "display_data"
    }
   ],
   "source": [
    "plt.scatter(np.arange(50), Ds[:50], marker='.')\n",
    "plt.title('Divergence for fitted minimum degrees')\n",
    "plt.xlabel('k_min')\n",
    "_ = plt.ylabel('D')"
   ]
  },
  {
   "cell_type": "markdown",
   "metadata": {},
   "source": [
    "Now we retrieve $k_{min}$ and respective ${\\gamma}$"
   ]
  },
  {
   "cell_type": "code",
   "execution_count": 12,
   "metadata": {},
   "outputs": [],
   "source": [
    "kmin = np.arange(1, max_deg + 1)[np.nanargmin(Ds)]"
   ]
  },
  {
   "cell_type": "code",
   "execution_count": 13,
   "metadata": {},
   "outputs": [
    {
     "data": {
      "image/png": "[encoded data removed]",
      "text/plain": [
       "<Figure size 432x288 with 1 Axes>"
      ]
     },
     "metadata": {
      "needs_background": "light"
     },
     "output_type": "display_data"
    }
   ],
   "source": [
    "ks, pks = empirical_deg_dist(A)\n",
    "flags = ks > 0\n",
    "ks, pks = ks[flags], pks[flags]\n",
    "\n",
    "degs = np.sum(A, axis=0)\n",
    "pmf = fit_power_law_pmf(kmin, degs)\n",
    "power_pks = [pmf(k) for k in ks if k>=kmin]\n",
    "plt.plot(np.log(ks[ks >=kmin]), np.log(power_pks), label='Fitted power law')\n",
    "plt.scatter(np.log(ks), np.log(pks), alpha=0.5, marker='.', label='GI genes')\n",
    "plt.title('log-log plot of degree distribtion and fitted power law')\n",
    "plt.xlabel('k')\n",
    "plt.ylabel('P(K=k)')\n",
    "_= plt.legend()"
   ]
  },
  {
   "cell_type": "markdown",
   "metadata": {},
   "source": [
    "**Answer to 2**"
   ]
  },
  {
   "cell_type": "code",
   "execution_count": 15,
   "metadata": {},
   "outputs": [
    {
     "name": "stdout",
     "output_type": "stream",
     "text": [
      "Gamma: 1.6265958380131114\n"
     ]
    }
   ],
   "source": [
    "print(\"Gamma:\", gamma_at_kmin(kmin, degs))"
   ]
  },
  {
   "cell_type": "code",
   "execution_count": 16,
   "metadata": {},
   "outputs": [
    {
     "name": "stdout",
     "output_type": "stream",
     "text": [
      "k_min: 4\n"
     ]
    }
   ],
   "source": [
    "print(\"k_min:\", kmin)"
   ]
  }
 ],
 "metadata": {
  "kernelspec": {
   "display_name": "Python 3",
   "language": "python",
   "name": "python3"
  },
  "language_info": {
   "codemirror_mode": {
    "name": "ipython",
    "version": 3
   },
   "file_extension": ".py",
   "mimetype": "text/x-python",
   "name": "python",
   "nbconvert_exporter": "python",
   "pygments_lexer": "ipython3",
   "version": "3.6.9"
  }
 },
 "nbformat": 4,
 "nbformat_minor": 2
}
