{
 "cells": [
  {
   "cell_type": "markdown",
   "metadata": {},
   "source": [
    "# CMSC828O - Jason Fan - HW2, Network generation\n"
   ]
  },
  {
   "cell_type": "code",
   "execution_count": 1,
   "metadata": {},
   "outputs": [],
   "source": [
    "import networkx as nx\n",
    "import pandas as pd\n",
    "import numpy as np\n",
    "import seaborn as sns\n",
    "import scipy\n",
    "\n",
    "import matplotlib\n",
    "%matplotlib inline\n",
    "\n",
    "import matplotlib.pyplot as plt"
   ]
  },
  {
   "cell_type": "markdown",
   "metadata": {},
   "source": [
    "# Preamble\n",
    "\n",
    "The GIs used in this notebook are parsed with R code taken *verbatim* from https://www.hcbravo.org/networks-across-scales/homeworks/network_stats/"
   ]
  },
  {
   "cell_type": "code",
   "execution_count": 2,
   "metadata": {},
   "outputs": [
    {
     "data": {
      "text/html": [
       "<div>\n",
       "<style scoped>\n",
       "    .dataframe tbody tr th:only-of-type {\n",
       "        vertical-align: middle;\n",
       "    }\n",
       "\n",
       "    .dataframe tbody tr th {\n",
       "        vertical-align: top;\n",
       "    }\n",
       "\n",
       "    .dataframe thead th {\n",
       "        text-align: right;\n",
       "    }\n",
       "</style>\n",
       "<table border=\"1\" class=\"dataframe\">\n",
       "  <thead>\n",
       "    <tr style=\"text-align: right;\">\n",
       "      <th></th>\n",
       "      <th>dma3986</th>\n",
       "      <th>dma969</th>\n",
       "      <th>dma2913</th>\n",
       "      <th>dma2871</th>\n",
       "      <th>dma86</th>\n",
       "      <th>dma2378</th>\n",
       "      <th>dma955</th>\n",
       "      <th>dma2338</th>\n",
       "      <th>dma272</th>\n",
       "      <th>dma2549</th>\n",
       "      <th>...</th>\n",
       "      <th>dma4417</th>\n",
       "      <th>dma3050</th>\n",
       "      <th>dma1905</th>\n",
       "      <th>dma1565</th>\n",
       "      <th>dma5343</th>\n",
       "      <th>dma3023</th>\n",
       "      <th>dma4495</th>\n",
       "      <th>dma796</th>\n",
       "      <th>dma2289</th>\n",
       "      <th>dma1373</th>\n",
       "    </tr>\n",
       "  </thead>\n",
       "  <tbody>\n",
       "    <tr>\n",
       "      <td>dma3986</td>\n",
       "      <td>0</td>\n",
       "      <td>0</td>\n",
       "      <td>0</td>\n",
       "      <td>0</td>\n",
       "      <td>0</td>\n",
       "      <td>0</td>\n",
       "      <td>0</td>\n",
       "      <td>0</td>\n",
       "      <td>0</td>\n",
       "      <td>0</td>\n",
       "      <td>...</td>\n",
       "      <td>0</td>\n",
       "      <td>0</td>\n",
       "      <td>0</td>\n",
       "      <td>0</td>\n",
       "      <td>0</td>\n",
       "      <td>0</td>\n",
       "      <td>0</td>\n",
       "      <td>0</td>\n",
       "      <td>0</td>\n",
       "      <td>0</td>\n",
       "    </tr>\n",
       "    <tr>\n",
       "      <td>dma969</td>\n",
       "      <td>0</td>\n",
       "      <td>0</td>\n",
       "      <td>0</td>\n",
       "      <td>0</td>\n",
       "      <td>0</td>\n",
       "      <td>0</td>\n",
       "      <td>0</td>\n",
       "      <td>0</td>\n",
       "      <td>0</td>\n",
       "      <td>0</td>\n",
       "      <td>...</td>\n",
       "      <td>0</td>\n",
       "      <td>0</td>\n",
       "      <td>0</td>\n",
       "      <td>0</td>\n",
       "      <td>0</td>\n",
       "      <td>0</td>\n",
       "      <td>0</td>\n",
       "      <td>0</td>\n",
       "      <td>0</td>\n",
       "      <td>0</td>\n",
       "    </tr>\n",
       "    <tr>\n",
       "      <td>dma2913</td>\n",
       "      <td>0</td>\n",
       "      <td>0</td>\n",
       "      <td>0</td>\n",
       "      <td>0</td>\n",
       "      <td>0</td>\n",
       "      <td>0</td>\n",
       "      <td>0</td>\n",
       "      <td>0</td>\n",
       "      <td>0</td>\n",
       "      <td>0</td>\n",
       "      <td>...</td>\n",
       "      <td>0</td>\n",
       "      <td>0</td>\n",
       "      <td>0</td>\n",
       "      <td>0</td>\n",
       "      <td>0</td>\n",
       "      <td>0</td>\n",
       "      <td>0</td>\n",
       "      <td>0</td>\n",
       "      <td>0</td>\n",
       "      <td>0</td>\n",
       "    </tr>\n",
       "    <tr>\n",
       "      <td>dma2871</td>\n",
       "      <td>0</td>\n",
       "      <td>0</td>\n",
       "      <td>0</td>\n",
       "      <td>0</td>\n",
       "      <td>0</td>\n",
       "      <td>0</td>\n",
       "      <td>0</td>\n",
       "      <td>0</td>\n",
       "      <td>0</td>\n",
       "      <td>0</td>\n",
       "      <td>...</td>\n",
       "      <td>0</td>\n",
       "      <td>0</td>\n",
       "      <td>0</td>\n",
       "      <td>0</td>\n",
       "      <td>0</td>\n",
       "      <td>0</td>\n",
       "      <td>0</td>\n",
       "      <td>0</td>\n",
       "      <td>0</td>\n",
       "      <td>0</td>\n",
       "    </tr>\n",
       "    <tr>\n",
       "      <td>dma86</td>\n",
       "      <td>0</td>\n",
       "      <td>0</td>\n",
       "      <td>0</td>\n",
       "      <td>0</td>\n",
       "      <td>0</td>\n",
       "      <td>0</td>\n",
       "      <td>0</td>\n",
       "      <td>0</td>\n",
       "      <td>0</td>\n",
       "      <td>0</td>\n",
       "      <td>...</td>\n",
       "      <td>0</td>\n",
       "      <td>0</td>\n",
       "      <td>0</td>\n",
       "      <td>0</td>\n",
       "      <td>0</td>\n",
       "      <td>0</td>\n",
       "      <td>0</td>\n",
       "      <td>0</td>\n",
       "      <td>0</td>\n",
       "      <td>0</td>\n",
       "    </tr>\n",
       "  </tbody>\n",
       "</table>\n",
       "<p>5 rows × 2803 columns</p>\n",
       "</div>"
      ],
      "text/plain": [
       "         dma3986  dma969  dma2913  dma2871  dma86  dma2378  dma955  dma2338  \\\n",
       "dma3986        0       0        0        0      0        0       0        0   \n",
       "dma969         0       0        0        0      0        0       0        0   \n",
       "dma2913        0       0        0        0      0        0       0        0   \n",
       "dma2871        0       0        0        0      0        0       0        0   \n",
       "dma86          0       0        0        0      0        0       0        0   \n",
       "\n",
       "         dma272  dma2549  ...  dma4417  dma3050  dma1905  dma1565  dma5343  \\\n",
       "dma3986       0        0  ...        0        0        0        0        0   \n",
       "dma969        0        0  ...        0        0        0        0        0   \n",
       "dma2913       0        0  ...        0        0        0        0        0   \n",
       "dma2871       0        0  ...        0        0        0        0        0   \n",
       "dma86         0        0  ...        0        0        0        0        0   \n",
       "\n",
       "         dma3023  dma4495  dma796  dma2289  dma1373  \n",
       "dma3986        0        0       0        0        0  \n",
       "dma969         0        0       0        0        0  \n",
       "dma2913        0        0       0        0        0  \n",
       "dma2871        0        0       0        0        0  \n",
       "dma86          0        0       0        0        0  \n",
       "\n",
       "[5 rows x 2803 columns]"
      ]
     },
     "execution_count": 2,
     "metadata": {},
     "output_type": "execute_result"
    }
   ],
   "source": [
    "gis_path = 'data/output/costanzo_gis_adj.tsv'\n",
    "gis_df = pd.read_csv(gis_path, sep='\\t')\n",
    "gis_df.index = gis_df.columns\n",
    "gis_df.head()"
   ]
  },
  {
   "cell_type": "code",
   "execution_count": 3,
   "metadata": {},
   "outputs": [
    {
     "data": {
      "text/plain": [
       "(2803, 2803)"
      ]
     },
     "execution_count": 3,
     "metadata": {},
     "output_type": "execute_result"
    }
   ],
   "source": [
    "A_gi = gis_df.values\n",
    "gis_df.shape"
   ]
  },
  {
   "cell_type": "code",
   "execution_count": 4,
   "metadata": {},
   "outputs": [],
   "source": [
    "'''\n",
    "Helper functions for the modelling\n",
    "'''\n",
    "def empirical_deg_dist(A, kmin=0):\n",
    "    '''\n",
    "    return empirical degree distribution of given adjacency matrix\n",
    "    '''\n",
    "    degrees = np.sum(A, axis=0)\n",
    "    k, pk = np.unique(degrees, return_counts=True)\n",
    "    pk = pk / np.sum(pk[pk>= kmin])\n",
    "    return k, pk\n",
    "\n",
    "def plot_log_log(A, **kwargs):\n",
    "    '''\n",
    "    Plot log-log plot of A's degree distribution\n",
    "    '''\n",
    "    ks, pk = empirical_deg_dist(A)\n",
    "    plt.scatter(np.log(ks[ks>0]), np.log(pk[ks>0]), **kwargs)\n",
    "    return plt\n",
    "\n",
    "def _empirical_cdf(A):\n",
    "    '''\n",
    "    Compute empirical cdf\n",
    "    '''\n",
    "    ks, pks = empirical_deg_dist(A)\n",
    "    max_deg = max(ks)\n",
    "    filled_cumsum = [np.sum(pks[ks <= k]) for k in range(max_deg + 1)]\n",
    "    filled_ks = np.arange(max_deg + 1)\n",
    "    return filled_ks, filled_cumsum\n",
    "\n",
    "def empirical_cdf(A):\n",
    "    '''\n",
    "    return callable empirical cdf\n",
    "    '''\n",
    "    ks, cumsum = _empirical_cdf(A)\n",
    "    def cdf(k):\n",
    "        return cumsum[k] if k < len(cumsum) else 1.\n",
    "    return cdf\n",
    "\n",
    "def D(cdf1, cdf2, kmax):\n",
    "    '''\n",
    "    KS-statistic for two cdfs\n",
    "    '''\n",
    "    errs = [np.abs(cdf1(k) - cdf2(k)) for k in range(0, kmax + 1)]\n",
    "    return np.max(errs)\n",
    "\n",
    "def plot_log_cdf(A, **kwargs):\n",
    "    '''\n",
    "    Plot log(1-cdf(k)) of cdf of A's degree distribution\n",
    "    '''\n",
    "    ks, pk = empirical_deg_dist(A)\n",
    "    \n",
    "    max_deg = np.max(np.sum(A,axis=0))\n",
    "    cdf = empirical_cdf(A)\n",
    "    ks = np.arange(1, max_deg)\n",
    "    cdf_pks = [1 -cdf(k) for k in ks]\n",
    "    \n",
    "    plt.plot(np.log(ks), np.log(cdf_pks), **kwargs)\n",
    "    return plt"
   ]
  },
  {
   "cell_type": "markdown",
   "metadata": {},
   "source": [
    "## Task 1"
   ]
  },
  {
   "cell_type": "code",
   "execution_count": 5,
   "metadata": {},
   "outputs": [],
   "source": [
    "def ba_graph(n, m):\n",
    "    'barabasi albert graph with seed of clique of size m'\n",
    "    #start with m clique for nodes: n_0,..., n_(m-1)\n",
    "    A = np.ones((n,n))\n",
    "    A[m:] = 0\n",
    "    A[:, m:] = 0\n",
    "    A[np.eye(n) == 1] = 0\n",
    "    \n",
    "    # build network by expanding principle submatrix of desired adj matrix\n",
    "    for i in range(m, n):\n",
    "        degs = np.sum(A[:i][:, :i], axis=0)\n",
    "        p_attach = degs / np.sum(degs)\n",
    "        ixs = np.random.choice(np.arange(i), p=p_attach, size=m)\n",
    "        A[i, ixs] = 1\n",
    "        A[ixs, i] = 1\n",
    "    return A.astype(int)"
   ]
  },
  {
   "cell_type": "markdown",
   "metadata": {},
   "source": [
    "We use a simple Barabsi-Albert (BA) model parameterized by $n$ the total number of nodes and $m$ the expected number of new edges at each timestep. Where the seed graph is always a m-clique. So we generate  a graph with approximately the same number of edges with $n=2803, m=12$. (Note, we obtain $m=12$, by solving for $m_0 + tm$ where $t = n-m$ is the number of timesteps to generate $n$ total nodes.  and $m_0 = m(m-1)/2$ is the number of edges in the starting $m$ clique."
   ]
  },
  {
   "cell_type": "code",
   "execution_count": 6,
   "metadata": {},
   "outputs": [],
   "source": [
    "ba = ba_graph(len(A_gi), 12)"
   ]
  },
  {
   "cell_type": "code",
   "execution_count": 7,
   "metadata": {},
   "outputs": [
    {
     "data": {
      "image/png": "[encoded data removed]",
      "text/plain": [
       "<Figure size 432x288 with 1 Axes>"
      ]
     },
     "metadata": {
      "needs_background": "light"
     },
     "output_type": "display_data"
    }
   ],
   "source": [
    "plot_log_log(ba, marker='.', label='Barabasi-Albert - n=2803, m=12')\n",
    "plt.legend()\n",
    "plt.xlabel('log k')\n",
    "plt.ylabel('log p_k')\n",
    "_ = plt.title('Barabasi-Albert - n=2803, m=12')"
   ]
  },
  {
   "cell_type": "code",
   "execution_count": 8,
   "metadata": {},
   "outputs": [
    {
     "name": "stdout",
     "output_type": "stream",
     "text": [
      "n gis 33634.0\n",
      "n_edges in ba 33053.0\n"
     ]
    }
   ],
   "source": [
    "print(\"n gis\", np.sum(A_gi / 2))\n",
    "print(\"n_edges in ba\", np.sum(ba / 2))"
   ]
  },
  {
   "cell_type": "markdown",
   "metadata": {},
   "source": [
    "# Task 3\n",
    "We implement the described simple node duplication model where the seed graph is a 2-clique."
   ]
  },
  {
   "cell_type": "code",
   "execution_count": 9,
   "metadata": {},
   "outputs": [],
   "source": [
    "def hector_graph(n, del_p, rw_p):\n",
    "    '''\n",
    "    params:\n",
    "        n : size\n",
    "        del_p : deletion p\n",
    "        rw_p : rewiring p\n",
    "    '''\n",
    "    A = np.zeros((n,n))\n",
    "    # start with 2-clique\n",
    "    \n",
    "    A[0,1] = 1\n",
    "    A[1,0] = 1\n",
    "    \n",
    "    for i in range(2, n):\n",
    "        dup_i = np.random.choice(i) # chose a node to duplicate\n",
    "        A[i, :] = A[dup_i,:]\n",
    "        A[:, i] = A[:, dup_i]\n",
    "        \n",
    "        # select uniformly at random nodes to delete\n",
    "        del_edges = np.random.uniform(size=i+1) < del_p \n",
    "        \n",
    "        # select uniformly at random nodes to rewire\n",
    "        rewire_edges = np.random.uniform(size=i+1) < (rw_p / (i + 2)) \n",
    "        \n",
    "        A[i,:i+1][del_edges] = 0\n",
    "        A[:i+1, i][del_edges] = 0\n",
    "        A[i,:i+1][rewire_edges] = 1\n",
    "        A[:i+1, i][rewire_edges] = 1\n",
    "        \n",
    "    return A.astype(int)"
   ]
  },
  {
   "cell_type": "markdown",
   "metadata": {},
   "source": [
    "Parameters for node duplication model were selected via trial and error to match log-log plots."
   ]
  },
  {
   "cell_type": "code",
   "execution_count": 10,
   "metadata": {},
   "outputs": [
    {
     "data": {
      "image/png": "[encoded data removed]",
      "text/plain": [
       "<Figure size 432x288 with 1 Axes>"
      ]
     },
     "metadata": {
      "needs_background": "light"
     },
     "output_type": "display_data"
    },
    {
     "data": {
      "image/png": "[encoded data removed]",
      "text/plain": [
       "<Figure size 432x288 with 1 Axes>"
      ]
     },
     "metadata": {
      "needs_background": "light"
     },
     "output_type": "display_data"
    }
   ],
   "source": [
    "np.random.seed(1234)\n",
    "h_A = hector_graph(2803, 0.3, 0.5)\n",
    "plot_log_log(ba, marker='.',alpha=0.3, label='BA')\n",
    "plot_log_log(A_gi, marker='.',alpha=0.2, color='black', label='GIs')\n",
    "plot_log_log(h_A, marker='.', alpha=0.7, label='Simple dupication model')\n",
    "plt.legend()\n",
    "plt.xlabel('log k')\n",
    "plt.ylabel('log p_k')\n",
    "_ = plt.title('GIs vs network generation models (log-log plots of degree distribution)')\n",
    "plt.show()\n",
    "\n",
    "plot_log_cdf(ba, alpha=0.3, label='BA')\n",
    "plot_log_cdf(A_gi,alpha=0.7, color='black', label='GIs')\n",
    "plot_log_cdf(h_A, label='Simple dupication model')\n",
    "plt.legend()\n",
    "plt.xlabel('log k')\n",
    "plt.ylabel('log (1-P_k)')\n",
    "_ = plt.title('GIs vs network generation models (log-log plots of CDF of degree distribution)')"
   ]
  },
  {
   "cell_type": "code",
   "execution_count": 11,
   "metadata": {},
   "outputs": [
    {
     "data": {
      "text/plain": [
       "0.3877987870139137"
      ]
     },
     "execution_count": 11,
     "metadata": {},
     "output_type": "execute_result"
    }
   ],
   "source": [
    "D(empirical_cdf(A_gi), empirical_cdf(ba.astype(int)), 2803)"
   ]
  },
  {
   "cell_type": "code",
   "execution_count": 12,
   "metadata": {},
   "outputs": [
    {
     "data": {
      "text/plain": [
       "0.05315733143061008"
      ]
     },
     "execution_count": 12,
     "metadata": {},
     "output_type": "execute_result"
    }
   ],
   "source": [
    "D(empirical_cdf(A_gi), empirical_cdf(h_A.astype(int)), 2803)"
   ]
  },
  {
   "cell_type": "markdown",
   "metadata": {},
   "source": [
    "# Task 2:\n",
    "- Qualititatively, the BA model fits the GI network when the nodes in the network are in the power law regime, from the graph, the log-log plots look similar for high k.\n",
    "- Quantitavely, the KS-statistic for the generated BA network vs the GI network has value ~0.4, which is much higher than the node duplication vs GI network, which is ~0.05. Futhermore, we know that the $\\gamma$ coefficients for the BA model ($\\gamma = 3$ and the best fitting $\\gamma=2.6$ (from questions 1 and 2) are different."
   ]
  },
  {
   "cell_type": "markdown",
   "metadata": {},
   "source": [
    "# Task 4:\n",
    "It is clear both *qualitatively* and *quantitatively* that the simple node duplication model is better. The plots of log PDFs and CDFs are better with this model. The model can also make sense if we believe in gene-duplication/whole genome-duplication/copy-number variation + subsequent mutation to be a driving evolutionary mechanism :)."
   ]
  },
  {
   "cell_type": "code",
   "execution_count": null,
   "metadata": {},
   "outputs": [],
   "source": []
  }
 ],
 "metadata": {
  "kernelspec": {
   "display_name": "Python 3",
   "language": "python",
   "name": "python3"
  },
  "language_info": {
   "codemirror_mode": {
    "name": "ipython",
    "version": 3
   },
   "file_extension": ".py",
   "mimetype": "text/x-python",
   "name": "python",
   "nbconvert_exporter": "python",
   "pygments_lexer": "ipython3",
   "version": "3.6.9"
  }
 },
 "nbformat": 4,
 "nbformat_minor": 2
}
